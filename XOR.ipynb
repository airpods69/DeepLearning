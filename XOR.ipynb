{
 "cells": [
  {
   "cell_type": "code",
   "execution_count": 20,
   "metadata": {},
   "outputs": [],
   "source": [
    "import torch\n",
    "import numpy as np\n",
    "import matplotlib.pyplot as plt"
   ]
  },
  {
   "cell_type": "markdown",
   "metadata": {},
   "source": [
    "**XOR Truth Table**\n",
    "\n",
    "| X | Y | X XOR Y |\n",
    "|:-:|:-:|:-------:|\n",
    "| 0 | 0 |    0    |\n",
    "| 1 | 0 |    1    |\n",
    "| 0 | 1 |    1    |\n",
    "| 0 | 0 |    0    |"
   ]
  },
  {
   "cell_type": "code",
   "execution_count": 21,
   "metadata": {},
   "outputs": [],
   "source": [
    "x1 = np.array([0., 0., 1., 1.], dtype = np.float32)\n",
    "x2 = np.array([0., 1., 0., 1.], dtype = np.float32)\n",
    "y = np.array([0., 1., 1., 0.], dtype = np.float32)"
   ]
  },
  {
   "cell_type": "code",
   "execution_count": 22,
   "metadata": {},
   "outputs": [
    {
     "data": {
      "text/plain": [
       "<matplotlib.collections.PathCollection at 0x7f4df763f520>"
      ]
     },
     "execution_count": 22,
     "metadata": {},
     "output_type": "execute_result"
    },
    {
     "data": {
      "image/png": "[encoded data removed]",
      "text/plain": [
       "<Figure size 432x288 with 1 Axes>"
      ]
     },
     "metadata": {
      "needs_background": "light"
     },
     "output_type": "display_data"
    }
   ],
   "source": [
    "plt.scatter(x1, x2, c=y)"
   ]
  },
  {
   "cell_type": "code",
   "execution_count": 23,
   "metadata": {},
   "outputs": [],
   "source": [
    "def create_dataset(x1, x2, y):\n",
    "\n",
    "    x1 = np.repeat(x1, 50)\n",
    "    x2 = np.repeat(x2, 50)\n",
    "    y = np.repeat(y, 50)\n",
    "\n",
    "    x1 = x1 + np.random.rand(x1.shape[0])*0.05\n",
    "    x2 = x2 + np.random.rand(x2.shape[0])*0.05\n",
    "\n",
    "    index_shuffle = np.arange(x1.shape[0])\n",
    "    np.random.shuffle(index_shuffle)\n",
    "\n",
    "    x1 = x1.astype(np.float32)\n",
    "    x2 = x2.astype(np.float32)\n",
    "    y = y.astype(np.float32)\n",
    "\n",
    "    x1 = x1[index_shuffle]\n",
    "    x2 = x2[index_shuffle]\n",
    "    y = y[index_shuffle]\n",
    "\n",
    "    x1_torch = torch.from_numpy(x1).clone().view(-1,1)\n",
    "    x2_torch = torch.from_numpy(x2).clone().view(-1,1)\n",
    "    y_torch = torch.from_numpy(y).clone().view(-1,1)\n",
    "\n",
    "    x = torch.hstack([x1_torch, x2_torch])\n",
    "\n",
    "    x_train = x[:150,:]\n",
    "    x_test = x[150:,:]\n",
    "    y_train = y_torch[:150,:]\n",
    "    y_test = y_torch[150:,:]\n",
    "\n",
    "    return x_train, x_test, y_train, y_test"
   ]
  },
  {
   "cell_type": "code",
   "execution_count": 24,
   "metadata": {},
   "outputs": [
    {
     "data": {
      "text/plain": [
       "<matplotlib.collections.PathCollection at 0x7f4df7610a60>"
      ]
     },
     "execution_count": 24,
     "metadata": {},
     "output_type": "execute_result"
    },
    {
     "data": {
      "image/png": "[encoded data removed]",
      "text/plain": [
       "<Figure size 432x288 with 1 Axes>"
      ]
     },
     "metadata": {
      "needs_background": "light"
     },
     "output_type": "display_data"
    }
   ],
   "source": [
    "x_train, x_test, y_train, y_test = create_dataset(x1, x2, y)\n",
    "plt.scatter(x_train[:,0], x_train[:,1], c = y_train)"
   ]
  },
  {
   "cell_type": "code",
   "execution_count": 25,
   "metadata": {},
   "outputs": [],
   "source": [
    "class LogisticRegression(torch.nn.Module):\n",
    "    def __init__(self, input_dim, output_dim):\n",
    "        super(LogisticRegression, self).__init__()\n",
    "        self.linear = torch.nn.Linear(input_dim, output_dim)\n",
    "\n",
    "    def forward(self, x):\n",
    "        x = self.linear(x)\n",
    "        outputs = torch.sigmoid(x)\n",
    "        return outputs"
   ]
  },
  {
   "cell_type": "code",
   "execution_count": 26,
   "metadata": {},
   "outputs": [],
   "source": [
    "model_AND = LogisticRegression(2,1)\n",
    "criterion = torch.nn.BCELoss()\n",
    "optimizer = torch.optim.SGD(model_AND.parameters(), lr=0.01)"
   ]
  },
  {
   "cell_type": "code",
   "execution_count": 27,
   "metadata": {},
   "outputs": [],
   "source": [
    "def train(model, criterion, optimizer, x, y, iter):\n",
    "    all_loss = []\n",
    "    for epoch in range(iter):\n",
    "        y_hat = model(x)\n",
    "\n",
    "        loss = criterion(y_hat, y)\n",
    "\n",
    "        all_loss.append(loss.item())\n",
    "        loss.backward()\n",
    "\n",
    "        optimizer.step()\n",
    "        optimizer.zero_grad()\n",
    "\n",
    "    return all_loss"
   ]
  },
  {
   "cell_type": "code",
   "execution_count": 28,
   "metadata": {},
   "outputs": [],
   "source": [
    "all_loss = train(model_AND, criterion, optimizer, x_train, y_train, 50000)"
   ]
  },
  {
   "cell_type": "code",
   "execution_count": 29,
   "metadata": {},
   "outputs": [
    {
     "data": {
      "text/plain": [
       "<matplotlib.collections.PathCollection at 0x7f4df746a9d0>"
      ]
     },
     "execution_count": 29,
     "metadata": {},
     "output_type": "execute_result"
    },
    {
     "data": {
      "image/png": "[encoded data removed]",
      "text/plain": [
       "<Figure size 432x288 with 1 Axes>"
      ]
     },
     "metadata": {
      "needs_background": "light"
     },
     "output_type": "display_data"
    }
   ],
   "source": [
    "y_pred = model_AND.forward(x_test)\n",
    "\n",
    "plt.scatter(y_pred.detach().numpy(), y_test)"
   ]
  },
  {
   "cell_type": "code",
   "execution_count": 30,
   "metadata": {},
   "outputs": [
    {
     "data": {
      "text/plain": [
       "[<matplotlib.lines.Line2D at 0x7f4df77a1fd0>]"
      ]
     },
     "execution_count": 30,
     "metadata": {},
     "output_type": "execute_result"
    },
    {
     "data": {
      "image/png": "[encoded data removed]",
      "text/plain": [
       "<Figure size 432x288 with 1 Axes>"
      ]
     },
     "metadata": {
      "needs_background": "light"
     },
     "output_type": "display_data"
    }
   ],
   "source": [
    "plt.plot(all_loss)"
   ]
  }
 ],
 "metadata": {
  "interpreter": {
   "hash": "e7370f93d1d0cde622a1f8e1c04877d8463912d04d973331ad4851f04de6915a"
  },
  "kernelspec": {
   "display_name": "Python 3.10.2 64-bit",
   "language": "python",
   "name": "python3"
  },
  "language_info": {
   "codemirror_mode": {
    "name": "ipython",
    "version": 3
   },
   "file_extension": ".py",
   "mimetype": "text/x-python",
   "name": "python",
   "nbconvert_exporter": "python",
   "pygments_lexer": "ipython3",
   "version": "3.9.7"
  },
  "orig_nbformat": 4
 },
 "nbformat": 4,
 "nbformat_minor": 2
}
