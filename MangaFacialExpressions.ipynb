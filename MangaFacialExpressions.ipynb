{
  "nbformat": 4,
  "nbformat_minor": 0,
  "metadata": {
    "colab": {
      "name": "MangaFacialExpressions.ipynb",
      "provenance": [],
      "authorship_tag": "ABX9TyNJeTVJz+/kPmFxv5yixzaM",
      "include_colab_link": true
    },
    "kernelspec": {
      "name": "python3",
      "display_name": "Python 3"
    },
    "language_info": {
      "name": "python"
    },
    "accelerator": "GPU"
  },
  "cells": [
    {
      "cell_type": "markdown",
      "metadata": {
        "id": "view-in-github",
        "colab_type": "text"
      },
      "source": [
        "<a href=\"https://colab.research.google.com/github/airpods69/DeepLearningGrind/blob/main/MangaFacialExpressions.ipynb\" target=\"_parent\"><img src=\"https://colab.research.google.com/assets/colab-badge.svg\" alt=\"Open In Colab\"/></a>"
      ]
    },
    {
      "cell_type": "markdown",
      "source": [
        "#### Useless stuff Needed to be done for kaggle"
      ],
      "metadata": {
        "id": "8L_Tgr21LLUm"
      }
    },
    {
      "cell_type": "code",
      "source": [
        "!cp kaggle.json /root/.kaggle/"
      ],
      "metadata": {
        "id": "CICfW7qGLsgN"
      },
      "execution_count": 5,
      "outputs": []
    },
    {
      "cell_type": "code",
      "source": [
        "!kaggle datasets download -d mertkkl/manga-facial-expressions"
      ],
      "metadata": {
        "colab": {
          "base_uri": "https://localhost:8080/"
        },
        "id": "Vf_1tYi9Lz9Q",
        "outputId": "91b095c7-165d-47dd-e463-7d8d0e640b2d"
      },
      "execution_count": 6,
      "outputs": [
        {
          "output_type": "stream",
          "name": "stdout",
          "text": [
            "Warning: Your Kaggle API key is readable by other users on this system! To fix this, you can run 'chmod 600 /root/.kaggle/kaggle.json'\n",
            "Downloading manga-facial-expressions.zip to /content\n",
            " 53% 9.00M/17.0M [00:00<00:00, 93.8MB/s]\n",
            "100% 17.0M/17.0M [00:00<00:00, 146MB/s] \n"
          ]
        }
      ]
    },
    {
      "cell_type": "code",
      "source": [
        "!ls"
      ],
      "metadata": {
        "colab": {
          "base_uri": "https://localhost:8080/"
        },
        "id": "tLEw8glVL9DJ",
        "outputId": "e3b650d0-7ca6-4f98-cacb-40e782b1ac8e"
      },
      "execution_count": 7,
      "outputs": [
        {
          "output_type": "stream",
          "name": "stdout",
          "text": [
            "kaggle.json  manga-facial-expressions.zip  sample_data\n"
          ]
        }
      ]
    },
    {
      "cell_type": "code",
      "source": [
        "!unzip manga-facial-expressions.zip -d manga-facial-expressions/"
      ],
      "metadata": {
        "id": "HXu8E3IwL3eG"
      },
      "execution_count": null,
      "outputs": []
    },
    {
      "cell_type": "markdown",
      "source": [
        "### Real Work time"
      ],
      "metadata": {
        "id": "6JugJX8pMAvW"
      }
    },
    {
      "cell_type": "code",
      "source": [
        "!ls"
      ],
      "metadata": {
        "colab": {
          "base_uri": "https://localhost:8080/"
        },
        "id": "smuOWVf5MaJc",
        "outputId": "c00336c8-73d1-4d59-8395-69a526fd4ce7"
      },
      "execution_count": 10,
      "outputs": [
        {
          "output_type": "stream",
          "name": "stdout",
          "text": [
            "kaggle.json\t\t  manga-facial-expressions.zip\n",
            "manga-facial-expressions  sample_data\n"
          ]
        }
      ]
    },
    {
      "cell_type": "code",
      "source": [
        "train_path = \"./manga-facial-expressions\"\n",
        "test_path = \"./manga-facial-expressions\""
      ],
      "metadata": {
        "id": "DvpcmZgSMDRN"
      },
      "execution_count": 11,
      "outputs": []
    },
    {
      "cell_type": "code",
      "source": [
        "from tensorflow.keras.preprocessing.image import ImageDataGenerator"
      ],
      "metadata": {
        "id": "MPK1jmDaTvyD"
      },
      "execution_count": 12,
      "outputs": []
    },
    {
      "cell_type": "code",
      "source": [
        "datagen = ImageDataGenerator(rescale=1/255.)"
      ],
      "metadata": {
        "id": "FOwrhAO1TtlV"
      },
      "execution_count": 13,
      "outputs": []
    },
    {
      "cell_type": "code",
      "source": [
        "train = datagen.flow_from_directory(train_path,\n",
        "                                    target_size=(48,48),\n",
        "                                    class_mode=\"sparse\",\n",
        "                                    seed=1,\n",
        "                                    color_mode=\"grayscale\",\n",
        "                                    batch_size=128)\n",
        "\n",
        "test = datagen.flow_from_directory(test_path,\n",
        "                                    target_size=(48,48),\n",
        "                                    class_mode=\"sparse\",\n",
        "                                    seed=1,\n",
        "                                    color_mode=\"grayscale\",\n",
        "                                    batch_size=128)"
      ],
      "metadata": {
        "colab": {
          "base_uri": "https://localhost:8080/"
        },
        "id": "3rKQCUSiUCzX",
        "outputId": "53a51397-89de-42f9-815d-09f98ba16f21"
      },
      "execution_count": 14,
      "outputs": [
        {
          "output_type": "stream",
          "name": "stdout",
          "text": [
            "Found 455 images belonging to 7 classes.\n",
            "Found 455 images belonging to 7 classes.\n"
          ]
        }
      ]
    },
    {
      "cell_type": "code",
      "source": [
        "print(train.class_indices)\n",
        "emotion = {0: \"angry\", \n",
        "           1: \"crying\", \n",
        "           2: \"embarassed\", \n",
        "           3: \"happy\", \n",
        "           4: \"pleased\", \n",
        "           5: \"sad\", \n",
        "           6: \"shock\"}"
      ],
      "metadata": {
        "colab": {
          "base_uri": "https://localhost:8080/"
        },
        "id": "LqOJZeLUVIIi",
        "outputId": "62b3a4e0-98d1-435c-b3b5-e29c41572039"
      },
      "execution_count": 15,
      "outputs": [
        {
          "output_type": "stream",
          "name": "stdout",
          "text": [
            "{'angry': 0, 'crying': 1, 'embarrassed': 2, 'happy': 3, 'pleased': 4, 'sad': 5, 'shock': 6}\n"
          ]
        }
      ]
    },
    {
      "cell_type": "code",
      "source": [
        "x, y = train.next()\n",
        "print(x.shape, y.shape)\n",
        "train.reset()"
      ],
      "metadata": {
        "colab": {
          "base_uri": "https://localhost:8080/"
        },
        "id": "kU2EzoTLVUX-",
        "outputId": "715e63c2-cbf7-453f-fb62-b4ab4e2bc0dd"
      },
      "execution_count": 16,
      "outputs": [
        {
          "output_type": "stream",
          "name": "stdout",
          "text": [
            "(128, 48, 48, 1) (128,)\n"
          ]
        }
      ]
    },
    {
      "cell_type": "code",
      "source": [
        "import tensorflow as tf\n",
        "from tensorflow.keras.models import Sequential\n",
        "from tensorflow.keras.layers import Conv2D, MaxPooling2D, BatchNormalization, Flatten, LeakyReLU, Dense, Dropout\n",
        "from tensorflow.keras import optimizers\n",
        "from tensorflow.keras.callbacks import EarlyStopping, ReduceLROnPlateau"
      ],
      "metadata": {
        "id": "iUB24lP8WA91"
      },
      "execution_count": 17,
      "outputs": []
    },
    {
      "cell_type": "code",
      "source": [
        "model = Sequential()\n",
        "\n",
        "# Layer 1\n",
        "model.add(Conv2D(filters = 32,\n",
        "                 kernel_size = (3,3),\n",
        "                 padding = 'same',\n",
        "                 input_shape = (48, 48, 1)\n",
        "                 ))\n",
        "\n",
        "model.add(LeakyReLU())\n",
        "\n",
        "model.add(Conv2D(filters = 32,\n",
        "                 kernel_size = (3,3),\n",
        "                 padding = 'same'\n",
        "                 ))\n",
        "\n",
        "model.add(LeakyReLU())\n",
        "\n",
        "model.add(BatchNormalization())\n",
        "\n",
        "model.add(MaxPooling2D(pool_size = (2,2)))\n",
        "\n",
        "model.add(Dropout(0.2))\n",
        "\n",
        "# Layer 2\n",
        "model.add(Conv2D(filters = 64,\n",
        "                 kernel_size = (3,3),\n",
        "                 padding = 'same',\n",
        "                 ))\n",
        "\n",
        "model.add(LeakyReLU())\n",
        "\n",
        "model.add(Conv2D(filters = 64,\n",
        "                 kernel_size = (3,3),\n",
        "                 padding = 'same'\n",
        "                 ))\n",
        "\n",
        "model.add(LeakyReLU())\n",
        "\n",
        "model.add(BatchNormalization())\n",
        "\n",
        "model.add(MaxPooling2D(pool_size = (2,2)))\n",
        "\n",
        "model.add(Dropout(0.3))\n",
        "\n",
        "# Layer 3\n",
        "model.add(Conv2D(filters = 128,\n",
        "                 kernel_size = (3,3),\n",
        "                 padding = 'same'\n",
        "                 ))\n",
        "\n",
        "model.add(LeakyReLU())\n",
        "\n",
        "model.add(Conv2D(filters = 128,\n",
        "                 kernel_size = (3,3),\n",
        "                 padding = 'same'\n",
        "                 ))\n",
        "\n",
        "model.add(LeakyReLU())\n",
        "\n",
        "model.add(Conv2D(filters = 128,\n",
        "                 kernel_size = (3,3),\n",
        "                 padding = 'same'\n",
        "                 ))\n",
        "\n",
        "model.add(LeakyReLU())\n",
        "\n",
        "model.add(BatchNormalization())\n",
        "\n",
        "model.add(MaxPooling2D(pool_size = (2,2)))\n",
        "\n",
        "model.add(Dropout(0.4))\n",
        "\n",
        "model.add(Flatten())\n",
        "\n",
        "model.add(Dense(128, activation = 'relu'))\n",
        "model.add(Dropout(0.4))\n",
        "\n",
        "model.add(Dense(len(train.class_indices), activation = 'softmax'))\n",
        "\n",
        "model.summary()\n",
        "model.compile(optimizer = tf.keras.optimizers.RMSprop(learning_rate=1e-3), \n",
        "    loss='sparse_categorical_crossentropy', \n",
        "    metrics=['accuracy']\n",
        ")"
      ],
      "metadata": {
        "colab": {
          "base_uri": "https://localhost:8080/"
        },
        "id": "xVnJdUmDVbUC",
        "outputId": "ba02f03f-fe7a-4436-d058-d90ab334908e"
      },
      "execution_count": 28,
      "outputs": [
        {
          "output_type": "stream",
          "name": "stdout",
          "text": [
            "Model: \"sequential_2\"\n",
            "_________________________________________________________________\n",
            " Layer (type)                Output Shape              Param #   \n",
            "=================================================================\n",
            " conv2d_10 (Conv2D)          (None, 48, 48, 32)        320       \n",
            "                                                                 \n",
            " leaky_re_lu_5 (LeakyReLU)   (None, 48, 48, 32)        0         \n",
            "                                                                 \n",
            " conv2d_11 (Conv2D)          (None, 48, 48, 32)        9248      \n",
            "                                                                 \n",
            " leaky_re_lu_6 (LeakyReLU)   (None, 48, 48, 32)        0         \n",
            "                                                                 \n",
            " batch_normalization_4 (Batc  (None, 48, 48, 32)       128       \n",
            " hNormalization)                                                 \n",
            "                                                                 \n",
            " max_pooling2d_4 (MaxPooling  (None, 24, 24, 32)       0         \n",
            " 2D)                                                             \n",
            "                                                                 \n",
            " dropout_6 (Dropout)         (None, 24, 24, 32)        0         \n",
            "                                                                 \n",
            " conv2d_12 (Conv2D)          (None, 24, 24, 64)        18496     \n",
            "                                                                 \n",
            " leaky_re_lu_7 (LeakyReLU)   (None, 24, 24, 64)        0         \n",
            "                                                                 \n",
            " conv2d_13 (Conv2D)          (None, 24, 24, 64)        36928     \n",
            "                                                                 \n",
            " leaky_re_lu_8 (LeakyReLU)   (None, 24, 24, 64)        0         \n",
            "                                                                 \n",
            " batch_normalization_5 (Batc  (None, 24, 24, 64)       256       \n",
            " hNormalization)                                                 \n",
            "                                                                 \n",
            " max_pooling2d_5 (MaxPooling  (None, 12, 12, 64)       0         \n",
            " 2D)                                                             \n",
            "                                                                 \n",
            " dropout_7 (Dropout)         (None, 12, 12, 64)        0         \n",
            "                                                                 \n",
            " conv2d_14 (Conv2D)          (None, 12, 12, 128)       73856     \n",
            "                                                                 \n",
            " leaky_re_lu_9 (LeakyReLU)   (None, 12, 12, 128)       0         \n",
            "                                                                 \n",
            " conv2d_15 (Conv2D)          (None, 12, 12, 128)       147584    \n",
            "                                                                 \n",
            " leaky_re_lu_10 (LeakyReLU)  (None, 12, 12, 128)       0         \n",
            "                                                                 \n",
            " conv2d_16 (Conv2D)          (None, 12, 12, 128)       147584    \n",
            "                                                                 \n",
            " leaky_re_lu_11 (LeakyReLU)  (None, 12, 12, 128)       0         \n",
            "                                                                 \n",
            " batch_normalization_6 (Batc  (None, 12, 12, 128)      512       \n",
            " hNormalization)                                                 \n",
            "                                                                 \n",
            " max_pooling2d_6 (MaxPooling  (None, 6, 6, 128)        0         \n",
            " 2D)                                                             \n",
            "                                                                 \n",
            " dropout_8 (Dropout)         (None, 6, 6, 128)         0         \n",
            "                                                                 \n",
            " flatten_2 (Flatten)         (None, 4608)              0         \n",
            "                                                                 \n",
            " dense_4 (Dense)             (None, 128)               589952    \n",
            "                                                                 \n",
            " dropout_9 (Dropout)         (None, 128)               0         \n",
            "                                                                 \n",
            " dense_5 (Dense)             (None, 7)                 903       \n",
            "                                                                 \n",
            "=================================================================\n",
            "Total params: 1,025,767\n",
            "Trainable params: 1,025,319\n",
            "Non-trainable params: 448\n",
            "_________________________________________________________________\n"
          ]
        }
      ]
    },
    {
      "cell_type": "code",
      "source": [
        "early_stopping = EarlyStopping(monitor = 'val_accuracy',\n",
        "                               min_delta = 0.00005,\n",
        "                               patience=11,\n",
        "                               verbose=1,\n",
        "                               restore_best_weights=True)\n",
        "\n",
        "lr_scheduler = ReduceLROnPlateau(monitor = 'val_accuracy',\n",
        "                                 factor = 0.5,\n",
        "                                 patience = 7,\n",
        "                                 min_lr = 1e-7,\n",
        "                                 verbose = 1)\n",
        "\n",
        "callbacks = [\n",
        "             early_stopping,\n",
        "             lr_scheduler\n",
        "]"
      ],
      "metadata": {
        "id": "CFawl-vNYVKy"
      },
      "execution_count": 29,
      "outputs": []
    },
    {
      "cell_type": "code",
      "source": [
        "model.fit(train, \n",
        "          validation_data = test,\n",
        "          epochs = 40,\n",
        "          callbacks = callbacks)"
      ],
      "metadata": {
        "colab": {
          "base_uri": "https://localhost:8080/"
        },
        "id": "EUUNvBmJZVsc",
        "outputId": "61b4d19d-9148-4154-f2df-2d2d070a7d0a"
      },
      "execution_count": 30,
      "outputs": [
        {
          "output_type": "stream",
          "name": "stdout",
          "text": [
            "Epoch 1/40\n",
            "4/4 [==============================] - 4s 608ms/step - loss: 10.1177 - accuracy: 0.1429 - val_loss: 2.0907 - val_accuracy: 0.1143 - lr: 0.0010\n",
            "Epoch 2/40\n",
            "4/4 [==============================] - 1s 399ms/step - loss: 4.6772 - accuracy: 0.1824 - val_loss: 1.9072 - val_accuracy: 0.2242 - lr: 0.0010\n",
            "Epoch 3/40\n",
            "4/4 [==============================] - 1s 404ms/step - loss: 2.4091 - accuracy: 0.2132 - val_loss: 1.9222 - val_accuracy: 0.1846 - lr: 0.0010\n",
            "Epoch 4/40\n",
            "4/4 [==============================] - 2s 522ms/step - loss: 1.9694 - accuracy: 0.2264 - val_loss: 1.9211 - val_accuracy: 0.2286 - lr: 0.0010\n",
            "Epoch 5/40\n",
            "4/4 [==============================] - 2s 441ms/step - loss: 1.9855 - accuracy: 0.2022 - val_loss: 1.9259 - val_accuracy: 0.1890 - lr: 0.0010\n",
            "Epoch 6/40\n",
            "4/4 [==============================] - 1s 400ms/step - loss: 1.8523 - accuracy: 0.2571 - val_loss: 1.9150 - val_accuracy: 0.2176 - lr: 0.0010\n",
            "Epoch 7/40\n",
            "4/4 [==============================] - 1s 400ms/step - loss: 1.9071 - accuracy: 0.2593 - val_loss: 1.9615 - val_accuracy: 0.1890 - lr: 0.0010\n",
            "Epoch 8/40\n",
            "4/4 [==============================] - 1s 413ms/step - loss: 1.9156 - accuracy: 0.2637 - val_loss: 1.9484 - val_accuracy: 0.1890 - lr: 0.0010\n",
            "Epoch 9/40\n",
            "4/4 [==============================] - 1s 447ms/step - loss: 2.0450 - accuracy: 0.2462 - val_loss: 2.0506 - val_accuracy: 0.1890 - lr: 0.0010\n",
            "Epoch 10/40\n",
            "4/4 [==============================] - 1s 418ms/step - loss: 1.7519 - accuracy: 0.2879 - val_loss: 1.9718 - val_accuracy: 0.1824 - lr: 0.0010\n",
            "Epoch 11/40\n",
            "4/4 [==============================] - ETA: 0s - loss: 1.8279 - accuracy: 0.3077\n",
            "Epoch 11: ReduceLROnPlateau reducing learning rate to 0.0005000000237487257.\n",
            "4/4 [==============================] - 1s 403ms/step - loss: 1.8279 - accuracy: 0.3077 - val_loss: 2.0566 - val_accuracy: 0.0813 - lr: 0.0010\n",
            "Epoch 12/40\n",
            "4/4 [==============================] - 1s 403ms/step - loss: 1.7770 - accuracy: 0.2945 - val_loss: 2.0771 - val_accuracy: 0.0813 - lr: 5.0000e-04\n",
            "Epoch 13/40\n",
            "4/4 [==============================] - 1s 404ms/step - loss: 1.6817 - accuracy: 0.3187 - val_loss: 2.1760 - val_accuracy: 0.0901 - lr: 5.0000e-04\n",
            "Epoch 14/40\n",
            "4/4 [==============================] - 1s 411ms/step - loss: 1.6292 - accuracy: 0.3495 - val_loss: 2.3766 - val_accuracy: 0.1824 - lr: 5.0000e-04\n",
            "Epoch 15/40\n",
            "4/4 [==============================] - ETA: 0s - loss: 1.6479 - accuracy: 0.3692Restoring model weights from the end of the best epoch: 4.\n",
            "4/4 [==============================] - 1s 406ms/step - loss: 1.6479 - accuracy: 0.3692 - val_loss: 2.3694 - val_accuracy: 0.1648 - lr: 5.0000e-04\n",
            "Epoch 15: early stopping\n"
          ]
        },
        {
          "output_type": "execute_result",
          "data": {
            "text/plain": [
              "<keras.callbacks.History at 0x7f268a523e90>"
            ]
          },
          "metadata": {},
          "execution_count": 30
        }
      ]
    },
    {
      "cell_type": "code",
      "source": [
        "model.save('63.h5')"
      ],
      "metadata": {
        "id": "BZhED1Vdarx2"
      },
      "execution_count": 31,
      "outputs": []
    },
    {
      "cell_type": "code",
      "source": [
        "import numpy as np\n",
        "x,y = test.next()\n",
        "preds = model.predict(x)\n",
        "idx = np.argmax(preds, axis = 1)\n",
        "# idx.shape\n",
        "print('correct prediction:', np.sum((y == idx)*1)/128)"
      ],
      "metadata": {
        "colab": {
          "base_uri": "https://localhost:8080/"
        },
        "id": "xyXvLxwJaun7",
        "outputId": "74d3bfe5-f012-4142-e552-2a520eea1291"
      },
      "execution_count": 32,
      "outputs": [
        {
          "output_type": "stream",
          "name": "stdout",
          "text": [
            "correct prediction: 0.1640625\n"
          ]
        }
      ]
    },
    {
      "cell_type": "code",
      "source": [
        "import matplotlib.pyplot as plt"
      ],
      "metadata": {
        "id": "SG_GwB_als7C"
      },
      "execution_count": 35,
      "outputs": []
    },
    {
      "cell_type": "code",
      "source": [
        "# fig = plt.figure(1, (14, 14))\n",
        "\n",
        "# k = 0\n",
        "# for j in range(49):\n",
        "#     px = x[j]\n",
        "#     k += 1\n",
        "#     ax = plt.subplot(7, 7, k)\n",
        "#     ax.imshow(px, cmap='gray')\n",
        "#     ax.set_xticks([])\n",
        "#     ax.set_yticks([])\n",
        "    \n",
        "#     if  emotion_dict[y[j]] == emotion_dict[idx[j]]:\n",
        "#         for axis in ['top','bottom','left','right']:\n",
        "#             ax.spines[axis].set_linewidth(5)\n",
        "#             ax.spines[axis].set_color('green')\n",
        "#         ax.set_title(emotion_dict[idx[j]])\n",
        "\n",
        "#     else:\n",
        "#         for axis in ['top','bottom','left','right']:\n",
        "#             ax.spines[axis].set_linewidth(5)\n",
        "#             ax.spines[axis].set_color('red')\n",
        "#         ax.set_title('P:'+emotion_dict[idx[j]]+\" C:\"+emotion_dict[y[j]])\n",
        "#     plt.tight_layout()"
      ],
      "metadata": {
        "id": "elBo0hNga6x2"
      },
      "execution_count": 37,
      "outputs": []
    }
  ]
}